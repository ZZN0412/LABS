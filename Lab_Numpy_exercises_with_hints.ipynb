{
 "cells": [
  {
   "cell_type": "markdown",
   "id": "87c8f9bd",
   "metadata": {},
   "source": [
    "#### 1. Import the numpy package under the name `np` (★☆☆)\n",
    "`hint: import … as`"
   ]
  },
  {
   "cell_type": "code",
   "execution_count": 30,
   "id": "aab5d6f2",
   "metadata": {},
   "outputs": [],
   "source": [
    "import numpy as np"
   ]
  },
  {
   "cell_type": "markdown",
   "id": "c54508c8",
   "metadata": {},
   "source": [
    "#### 2. Create a null vector of size 10 (★☆☆)\n",
    "`hint: np.zeros`"
   ]
  },
  {
   "cell_type": "code",
   "execution_count": 36,
   "id": "9a7d6c15",
   "metadata": {},
   "outputs": [
    {
     "name": "stdout",
     "output_type": "stream",
     "text": [
      "[0. 0. 0. 0. 0. 0. 0. 0. 0. 0.]\n"
     ]
    }
   ],
   "source": [
    "a = np.zeros(10) #10 is the size \n",
    "print(a)\n",
    "#vector is [0. 0. 0. 0. 0. 0. 0. 0. 0. 0.]"
   ]
  },
  {
   "cell_type": "markdown",
   "id": "2829a6ba",
   "metadata": {},
   "source": [
    "#### 3. Create a null vector of size 10 but the fifth value which is 1 (★☆☆)\n",
    "`hint: array[4]`"
   ]
  },
  {
   "cell_type": "code",
   "execution_count": 126,
   "id": "5d31fd87",
   "metadata": {},
   "outputs": [
    {
     "name": "stdout",
     "output_type": "stream",
     "text": [
      "[0. 0. 0. 0. 1. 0. 0. 0. 0. 0.]\n"
     ]
    }
   ],
   "source": [
    "a = np.zeros(10)\n",
    "a[4] = 1\n",
    "print(a)"
   ]
  },
  {
   "cell_type": "markdown",
   "id": "c1062b34",
   "metadata": {},
   "source": [
    "#### 4. Create a vector with values ranging from 10 to 49 (★☆☆)\n",
    "`hint: arange`"
   ]
  },
  {
   "cell_type": "code",
   "execution_count": 33,
   "id": "d35f6a6d",
   "metadata": {},
   "outputs": [
    {
     "name": "stdout",
     "output_type": "stream",
     "text": [
      "[10 11 12 13 14 15 16 17 18 19 20 21 22 23 24 25 26 27 28 29 30 31 32 33\n",
      " 34 35 36 37 38 39 40 41 42 43 44 45 46 47 48 49]\n"
     ]
    }
   ],
   "source": [
    "a = np.arange(10,50)\n",
    "print(a)\n",
    "#arange is to order"
   ]
  },
  {
   "cell_type": "markdown",
   "id": "4233ef88",
   "metadata": {},
   "source": [
    "#### 5. Create a 3x3 matrix with values ranging from 0 to 8 (★☆☆)\n",
    "`hint: reshape`"
   ]
  },
  {
   "cell_type": "code",
   "execution_count": 127,
   "id": "6f84cac5",
   "metadata": {},
   "outputs": [
    {
     "name": "stdout",
     "output_type": "stream",
     "text": [
      "[[0 1 2]\n",
      " [3 4 5]\n",
      " [6 7 8]]\n"
     ]
    }
   ],
   "source": [
    "a = np.arange(0,9).reshape(3,3) #3x3 is 3 rows and 3 numbers in the list\n",
    "print(a)\n",
    "# matrix:[[0 1 2], [3 4 5], [6 7 8]]\n",
    "#reshape is to reshape a vector into matrix"
   ]
  },
  {
   "cell_type": "markdown",
   "id": "76092e64",
   "metadata": {},
   "source": [
    "#### 6. Find indices of non-zero elements from [1,2,0,0,4,0] (★☆☆)\n",
    "`hint: np.nonzero`"
   ]
  },
  {
   "cell_type": "code",
   "execution_count": 14,
   "id": "3df7c400",
   "metadata": {},
   "outputs": [
    {
     "name": "stdout",
     "output_type": "stream",
     "text": [
      "(array([0, 1, 4]),)\n"
     ]
    }
   ],
   "source": [
    "a = np.nonzero([1,2,0,0,4,0])\n",
    "print(a)\n",
    "#nonzero returns the indices of the elements that are non-zero."
   ]
  },
  {
   "cell_type": "markdown",
   "id": "8489ecda",
   "metadata": {},
   "source": [
    "#### 7. Create a 3x3 identity matrix (★☆☆)\n",
    "`hint: np.eye`"
   ]
  },
  {
   "cell_type": "code",
   "execution_count": 15,
   "id": "fcd84c28",
   "metadata": {},
   "outputs": [
    {
     "name": "stdout",
     "output_type": "stream",
     "text": [
      "[[1. 0. 0.]\n",
      " [0. 1. 0.]\n",
      " [0. 0. 1.]]\n"
     ]
    }
   ],
   "source": [
    "a = np.eye(3)\n",
    "print(a)\n",
    "#eye returns a matrix with 1 on the diagonal and 0 elsewhere."
   ]
  },
  {
   "cell_type": "markdown",
   "id": "cfe97c5f",
   "metadata": {},
   "source": [
    "#### 8. Create a 3x3x3 array with random values (★☆☆)\n",
    "`hint: np.random.random`"
   ]
  },
  {
   "cell_type": "code",
   "execution_count": 175,
   "id": "5d80d018",
   "metadata": {},
   "outputs": [
    {
     "name": "stdout",
     "output_type": "stream",
     "text": [
      "[[[0.49110101 0.83003102 0.30958567]\n",
      "  [0.14262465 0.19414441 0.7936128 ]\n",
      "  [0.45166233 0.01598435 0.7114743 ]]\n",
      "\n",
      " [[0.20342276 0.34564135 0.3695254 ]\n",
      "  [0.09264654 0.39902133 0.59014216]\n",
      "  [0.70115867 0.7902818  0.26524713]]\n",
      "\n",
      " [[0.81353576 0.48657389 0.56808707]\n",
      "  [0.96119661 0.9712674  0.91791182]\n",
      "  [0.17804697 0.22988741 0.58538857]]]\n"
     ]
    }
   ],
   "source": [
    "a = np.random.random((3,3,3)) #the third 3 means that there are 3 lists in the lists \n",
    "print(a)\n",
    "#array: matrix, vector\n",
    "#random.random returns random floats in the interval of 0 and 1."
   ]
  },
  {
   "cell_type": "markdown",
   "id": "dde4f428",
   "metadata": {},
   "source": [
    "#### 9. Create a 10x10 array with random values and find the minimum and maximum values (★☆☆)\n",
    "`hint: min, max`"
   ]
  },
  {
   "cell_type": "code",
   "execution_count": null,
   "id": "c77463b0",
   "metadata": {},
   "outputs": [],
   "source": [
    "a = np.random.random((10,10)) \n",
    "print(a)"
   ]
  },
  {
   "cell_type": "code",
   "execution_count": 132,
   "id": "b59e3881",
   "metadata": {},
   "outputs": [
    {
     "name": "stdout",
     "output_type": "stream",
     "text": [
      "[[0.03282012 0.58392442 0.87074643 0.04588728 0.65969731 0.87105342\n",
      "  0.61369101 0.1112203  0.81131632 0.84090483]\n",
      " [0.63576596 0.39711524 0.77555839 0.98975542 0.24648865 0.24657607\n",
      "  0.92868299 0.11899035 0.04246907 0.55508096]\n",
      " [0.42504746 0.17570448 0.09626315 0.38414016 0.84579616 0.11119524\n",
      "  0.85380738 0.36886054 0.98426302 0.54298335]\n",
      " [0.6673892  0.72943911 0.85925704 0.32707127 0.3421388  0.97406179\n",
      "  0.10916289 0.86449143 0.64856692 0.28287214]\n",
      " [0.35279097 0.83823622 0.44123338 0.91661803 0.51319617 0.02890198\n",
      "  0.24150983 0.22219598 0.40135112 0.70149073]\n",
      " [0.52600045 0.82229198 0.64454221 0.10192971 0.38435209 0.92041218\n",
      "  0.724575   0.82354471 0.76160581 0.10133708]\n",
      " [0.98041199 0.71887845 0.61526396 0.13014785 0.87071783 0.54100515\n",
      "  0.49296413 0.0416488  0.90846799 0.09053733]\n",
      " [0.83082705 0.25324022 0.4465266  0.44705735 0.93692756 0.65880155\n",
      "  0.44035457 0.89583341 0.72979628 0.3461923 ]\n",
      " [0.22654855 0.33587456 0.16576422 0.46904471 0.58323496 0.61608224\n",
      "  0.07614691 0.14673069 0.96263322 0.98495665]\n",
      " [0.21542987 0.07332209 0.45556429 0.09942965 0.70109031 0.16713149\n",
      "  0.5409496  0.87387016 0.69800414 0.1833235 ]]\n"
     ]
    }
   ],
   "source": [
    "a = np.random.random((10,10)) \n",
    "print(a)"
   ]
  },
  {
   "cell_type": "code",
   "execution_count": 131,
   "id": "b357466c",
   "metadata": {},
   "outputs": [
    {
     "name": "stdout",
     "output_type": "stream",
     "text": [
      "0\n",
      "2\n"
     ]
    }
   ],
   "source": [
    "print(a.min())\n",
    "print(a.max())"
   ]
  },
  {
   "cell_type": "markdown",
   "id": "ce517f83",
   "metadata": {},
   "source": [
    "#### 10. Create a random vector of size 30 and find the mean value (★☆☆)\n",
    "`hint: mean`"
   ]
  },
  {
   "cell_type": "code",
   "execution_count": 135,
   "id": "527cba46",
   "metadata": {},
   "outputs": [
    {
     "name": "stdout",
     "output_type": "stream",
     "text": [
      "[0.10413085 0.54787838 0.67822386 0.33884774 0.66472277 0.41813975\n",
      " 0.57444248 0.04636661 0.44894415 0.41850273 0.17852196 0.7964227\n",
      " 0.4596593  0.5566106  0.76757631 0.87489616 0.77487764 0.57265359\n",
      " 0.70726203 0.64558729 0.33548672 0.28555439 0.85914225 0.89707199\n",
      " 0.70202121 0.64368781 0.410468   0.15444862 0.04480883 0.30670397]\n",
      "0.5071220237680649\n"
     ]
    }
   ],
   "source": [
    "a = np.random.random(30)\n",
    "print(a)\n",
    "print(a.mean())"
   ]
  },
  {
   "cell_type": "markdown",
   "id": "6543d346",
   "metadata": {},
   "source": [
    "#### 11. Create a 5x5 matrix with values 1,2,3,4 just below the diagonal (★☆☆)\n",
    "`hint: np.diag`"
   ]
  },
  {
   "cell_type": "code",
   "execution_count": 136,
   "id": "4cb65349",
   "metadata": {},
   "outputs": [
    {
     "name": "stdout",
     "output_type": "stream",
     "text": [
      "[[0 0 0 0 0]\n",
      " [1 0 0 0 0]\n",
      " [0 2 0 0 0]\n",
      " [0 0 3 0 0]\n",
      " [0 0 0 4 0]]\n"
     ]
    }
   ],
   "source": [
    "a = np.diag(np.arange(1, 5),k=-1) \n",
    "print(a)\n",
    "#diag is used to construct a diagonal array \n",
    "#k is the position in the diagonal, row -1 (0=0, -1=1, -2=0...)"
   ]
  },
  {
   "cell_type": "markdown",
   "id": "c26b2bed",
   "metadata": {},
   "source": [
    "#### 12. Normalize a 5x5 random matrix (★☆☆)\n",
    "`hint: (x -mean)/std`"
   ]
  },
  {
   "cell_type": "code",
   "execution_count": 138,
   "id": "410e3970",
   "metadata": {},
   "outputs": [
    {
     "name": "stdout",
     "output_type": "stream",
     "text": [
      "[[4.44194910e-01 7.36055658e-01 7.57587625e-02 9.90233709e-01\n",
      "  7.28520349e-01]\n",
      " [4.43854968e-01 7.14725441e-01 8.88029854e-01 4.69799751e-01\n",
      "  5.54697256e-01]\n",
      " [7.07541978e-01 7.05915180e-01 6.57964316e-01 9.57275499e-01\n",
      "  5.16474701e-01]\n",
      " [3.20834588e-01 8.73510995e-01 5.24790190e-01 3.02177901e-01\n",
      "  5.48330523e-01]\n",
      " [4.90972163e-01 7.13200711e-04 6.12795942e-01 8.08820921e-01\n",
      "  4.69542911e-01]]\n",
      "[[-0.56918231  0.63857032 -2.09381256  1.69038771  0.60738837]\n",
      " [-0.57058903  0.55030348  1.26745665 -0.46322659 -0.11191116]\n",
      " [ 0.5205775   0.51384563  0.31541956  1.55400293 -0.2700804 ]\n",
      " [-1.07966121  1.20737598 -0.23566997 -1.15686468 -0.13825742]\n",
      " [-0.37561277 -2.40435954  0.12850774  0.93968117 -0.46428943]]\n"
     ]
    }
   ],
   "source": [
    "a = np.random.random((5,5))\n",
    "print(a)\n",
    "normalize = (a - np.mean (a)) / (np.std (a))\n",
    "print(normalize)\n",
    "#normalize is to find (x -mean)/std"
   ]
  },
  {
   "cell_type": "markdown",
   "id": "872c0db8",
   "metadata": {},
   "source": [
    "#### 13. How to find common values between two arrays? (★☆☆)\n",
    "`hint: np.intersect1d`"
   ]
  },
  {
   "cell_type": "code",
   "execution_count": 178,
   "id": "c16fb72b",
   "metadata": {},
   "outputs": [
    {
     "name": "stdout",
     "output_type": "stream",
     "text": [
      "[8 8 5 7 0 3 4 1 6 5 9 4 4 1 0]\n",
      "[9 9 1 9 1 7 0 8 2 0 4 1 1 3 0]\n",
      "[0 1 3 4 7 8 9]\n"
     ]
    }
   ],
   "source": [
    "a = np.random.randint(0,10,15) #from 1 to 11 and return 10 values\n",
    "print(a)\n",
    "b = np.random.randint(0,10,15)\n",
    "print(b)\n",
    "print(np.intersect1d(a,b))"
   ]
  },
  {
   "cell_type": "markdown",
   "id": "f5b997cb",
   "metadata": {},
   "source": [
    "#### 14. Create a random vector of size 10 and sort it (★★☆)\n",
    "`hint: sort`"
   ]
  },
  {
   "cell_type": "code",
   "execution_count": 142,
   "id": "10faa4f4",
   "metadata": {},
   "outputs": [
    {
     "name": "stdout",
     "output_type": "stream",
     "text": [
      "[0.02261525 0.18679258 0.20195121 0.30458566 0.4716374  0.58607404\n",
      " 0.70938749 0.84469491 0.87884798 0.99765653]\n"
     ]
    }
   ],
   "source": [
    "a = np.random.random(10)\n",
    "a.sort()\n",
    "print(a)"
   ]
  },
  {
   "cell_type": "markdown",
   "id": "cce5cc6f",
   "metadata": {},
   "source": [
    "#### 15. Create random vector of size 10 and replace the maximum value by 0 (★★☆)\n",
    "`hint: argmax`"
   ]
  },
  {
   "cell_type": "code",
   "execution_count": 155,
   "id": "f7e15a4d",
   "metadata": {},
   "outputs": [
    {
     "name": "stdout",
     "output_type": "stream",
     "text": [
      "[0.22681191 0.64956595 0.86377547 0.16356516 0.86373958 0.87311727\n",
      " 0.94168349 0.04087249 0.68479533 0.56559277]\n",
      "6\n",
      "[0.22681191 0.64956595 0.86377547 0.16356516 0.86373958 0.87311727\n",
      " 0.         0.04087249 0.68479533 0.56559277]\n"
     ]
    }
   ],
   "source": [
    "a = np.random.random(10)\n",
    "print(a)\n",
    "\n",
    "print(a.argmax()) #argmax returns indices of the max values\n",
    "\n",
    "a[a.argmax()] = 0 #replaces the max value by 0\n",
    "print(a)"
   ]
  },
  {
   "cell_type": "markdown",
   "id": "904531ee",
   "metadata": {},
   "source": [
    "#### 16. Subtract the mean of each row of a matrix (★★☆)\n",
    "`hint: mean(axis=,keepdims=)`"
   ]
  },
  {
   "cell_type": "code",
   "execution_count": 181,
   "id": "6c8d2a55",
   "metadata": {},
   "outputs": [
    {
     "name": "stdout",
     "output_type": "stream",
     "text": [
      "[[ 0.13569751  0.3579242  -0.20387778 -0.14296823 -0.1467757 ]\n",
      " [-0.03271003  0.41231682 -0.39547018  0.23343257 -0.21756917]\n",
      " [-0.07736047 -0.37000904 -0.3472858   0.32497916  0.46967615]]\n"
     ]
    }
   ],
   "source": [
    "a = np.random.rand(3, 5) \n",
    "substract = a - a.mean(axis=1, keepdims=True)\n",
    "print(substract)"
   ]
  },
  {
   "cell_type": "markdown",
   "id": "da72271b",
   "metadata": {},
   "source": [
    "#### 17. How to get the n largest values of an array (★★★)\n",
    "`Z = np.arange(10000)\n",
    "np.random.shuffle(Z)\n",
    "n = 5\n",
    "hint: np.argsort | np.argpartition`"
   ]
  },
  {
   "cell_type": "code",
   "execution_count": 164,
   "id": "22027969",
   "metadata": {},
   "outputs": [
    {
     "name": "stdout",
     "output_type": "stream",
     "text": [
      "[   0    1    2 ... 9997 9998 9999]\n"
     ]
    }
   ],
   "source": [
    "a = np.arange(0, 10000)\n",
    "print(a)"
   ]
  },
  {
   "cell_type": "code",
   "execution_count": 165,
   "id": "1bce743b",
   "metadata": {},
   "outputs": [
    {
     "name": "stdout",
     "output_type": "stream",
     "text": [
      "[6724 8282 3778 ... 9625 8735 9726]\n"
     ]
    }
   ],
   "source": [
    "np.random.shuffle(a)\n",
    "print(a)"
   ]
  },
  {
   "cell_type": "code",
   "execution_count": 167,
   "id": "6ccec595",
   "metadata": {},
   "outputs": [
    {
     "name": "stdout",
     "output_type": "stream",
     "text": [
      "[9995 9996 9997 9998 9999]\n"
     ]
    }
   ],
   "source": [
    "n = 5\n",
    "print(a[np.argsort(a)[-n:]]) #: means till the end"
   ]
  },
  {
   "cell_type": "markdown",
   "id": "78d513ba",
   "metadata": {},
   "source": [
    "#### 18. Create a random 5*3 matrix and replace items that are larger than 4 by their squares ( Example:  6 --> 36) \n",
    "`hint: np.where`"
   ]
  },
  {
   "cell_type": "code",
   "execution_count": 168,
   "id": "568145c8",
   "metadata": {},
   "outputs": [
    {
     "name": "stdout",
     "output_type": "stream",
     "text": [
      "[[7 1 3]\n",
      " [3 9 0]\n",
      " [8 2 5]\n",
      " [7 2 3]\n",
      " [5 9 6]]\n"
     ]
    }
   ],
   "source": [
    "a = np.random.randint(0,10,(5,3)) #5 rows and 3 numbers in the list\n",
    "print(a)"
   ]
  },
  {
   "cell_type": "code",
   "execution_count": 171,
   "id": "f5432ed5",
   "metadata": {},
   "outputs": [
    {
     "name": "stdout",
     "output_type": "stream",
     "text": [
      "[[49  1  3]\n",
      " [ 3 81  0]\n",
      " [64  2 25]\n",
      " [49  2  3]\n",
      " [25 81 36]]\n"
     ]
    }
   ],
   "source": [
    "replace = np.where(a > 4, a**2, a)\n",
    "print(replace)\n",
    "#np.where returns the elements from 'x' or 'y' depending on the condition. If the condition (a > 4) happens the value will be replaced by 'x' (a**2), if the condition doesn't happen then the value will be replaced by 'y' (a). "
   ]
  }
 ],
 "metadata": {
  "kernelspec": {
   "display_name": "Python 3 (ipykernel)",
   "language": "python",
   "name": "python3"
  },
  "language_info": {
   "codemirror_mode": {
    "name": "ipython",
    "version": 3
   },
   "file_extension": ".py",
   "mimetype": "text/x-python",
   "name": "python",
   "nbconvert_exporter": "python",
   "pygments_lexer": "ipython3",
   "version": "3.9.7"
  }
 },
 "nbformat": 4,
 "nbformat_minor": 5
}
