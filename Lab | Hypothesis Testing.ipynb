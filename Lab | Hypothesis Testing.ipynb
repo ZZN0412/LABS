{
 "cells": [
  {
   "cell_type": "code",
   "execution_count": 1,
   "id": "c172fc39",
   "metadata": {},
   "outputs": [],
   "source": [
    "import numpy as np\n",
    "import scipy.stats as stats\n",
    "import pandas as pd"
   ]
  },
  {
   "cell_type": "markdown",
   "id": "fabafbe2",
   "metadata": {},
   "source": [
    "1. It is assumed that the mean systolic blood pressure is μ = 120 mm Hg. In the Honolulu Heart Study, a sample of n = 100 people had an average systolic blood pressure of 130.1 mm Hg with a standard deviation of 21.21 mm Hg. Is the group significantly different (with respect to systolic blood pressure!) from the regular population?"
   ]
  },
  {
   "cell_type": "code",
   "execution_count": null,
   "id": "09f0ca79",
   "metadata": {},
   "outputs": [],
   "source": [
    "- μ (mean of the population) = 120 mm Hg\n",
    "- σ (standard deviation of the population)= ?   # t-Student distribution\n",
    "- n (sample size)= 100 people \n",
    "- x̄ (mean of the sample)= 130.1 mm Hg\n",
    "- s (standard deviation of the sample)= 21.21 mm Hg"
   ]
  },
  {
   "cell_type": "markdown",
   "id": "29dabcbc",
   "metadata": {},
   "source": [
    "- Set up the hypothesis test."
   ]
  },
  {
   "cell_type": "code",
   "execution_count": null,
   "id": "b58afcb0",
   "metadata": {},
   "outputs": [],
   "source": [
    "Two tailed test\n",
    "\n",
    "Null Hypothesis: Ho -> μ = 120 mm Hg\n",
    "Alternate Hypothesis: Ha -> μ != 120 mm Hg"
   ]
  },
  {
   "cell_type": "markdown",
   "id": "9c3955c9",
   "metadata": {},
   "source": [
    "- Write down all the steps followed for setting up the test."
   ]
  },
  {
   "cell_type": "code",
   "execution_count": null,
   "id": "3b495493",
   "metadata": {},
   "outputs": [],
   "source": [
    "Step 1: Define the null hypothesis \n",
    "This is our assumption about the population. It is defined by H0 and in this case H0: μ = 120\n",
    "\n",
    "Step 2: Define the alternative hypothesis \n",
    "This means, what if our assumption is not true, in fact the value is smaller. It is defined by Ha and in this case Ha: μ != 120\n",
    "\n",
    "Step 3: Decide a test statistic based on the information available. As the sample size is  big ( n > 30 ) but we are missing the population standard deviation we will use a statistic for a t-Student distribution. \n",
    "\n",
    "Step 4: Set the Confidence level / significance level: This defines the rejection region / critical region (How strong has to be the evidence against the null hypothesis). Significance level is defined by greek letter ‘α’. Usual values for confidence level are ( 90%, 95%, 99%) -> significance levels = (0.10, 0.05, 0.01). Let’s use a confidence level of 95% -> α = 0.05\n",
    "\n",
    "Step 5: Calculate the test statistic based on the given information: \n",
    "If you don’t have the population standard deviation, use the corrected sample standard deviation.\n",
    "Is the statistic within the acceptable region? No\n",
    "Reject Ho (null hypothesis)"
   ]
  },
  {
   "cell_type": "markdown",
   "id": "fe4db9cb",
   "metadata": {},
   "source": [
    "- Calculate the test statistic by hand and also code it in Python. It should be 4.76190. What decision can you make based on this calculated value?"
   ]
  },
  {
   "cell_type": "code",
   "execution_count": null,
   "id": "3a4de484",
   "metadata": {},
   "outputs": [],
   "source": [
    "t = (130.1-120)/(21.21/√100)= 4.76190\n",
    "\n",
    "Where is located the critical value of the t-student distribution with n - 1 = 100-1=99 degrees of freedom and an area of 0.95? -> tc = 1.984\n",
    "\n",
    "tc = 1.98 > 4.76 = t -> reject null hypothesis\n",
    "\n",
    "The group is significantly different with respect to systolic blood pressure from the regular population."
   ]
  },
  {
   "cell_type": "code",
   "execution_count": 2,
   "id": "4999b441",
   "metadata": {},
   "outputs": [
    {
     "data": {
      "text/plain": [
       "4.761904761904759"
      ]
     },
     "execution_count": 2,
     "metadata": {},
     "output_type": "execute_result"
    }
   ],
   "source": [
    "t = (130.1-120)/(21.21/np.sqrt(100))\n",
    "t"
   ]
  },
  {
   "cell_type": "code",
   "execution_count": 3,
   "id": "6f1cd579",
   "metadata": {},
   "outputs": [
    {
     "data": {
      "text/plain": [
       "1.9842169515086827"
      ]
     },
     "execution_count": 3,
     "metadata": {},
     "output_type": "execute_result"
    }
   ],
   "source": [
    "tc = stats.t.ppf(1-(0.05/2),df=99)\n",
    "tc"
   ]
  },
  {
   "cell_type": "markdown",
   "id": "536f63c8",
   "metadata": {},
   "source": [
    "2. In a packing plant, a machine packs cartons with jars. It is supposed that a new machine will pack faster on the average than the machine currently used. To test that hypothesis, the times it takes each machine to pack ten cartons are recorded. The results, in seconds, are shown in the tables in the file `Data/machine.txt`. Assume that there is sufficient evidence to conduct the t test, does the data provide sufficient evidence to show if one machine is better than the other"
   ]
  },
  {
   "cell_type": "markdown",
   "id": "be21d7ef",
   "metadata": {},
   "source": [
    "#### Loading data"
   ]
  },
  {
   "cell_type": "code",
   "execution_count": 4,
   "id": "5e606ab3",
   "metadata": {},
   "outputs": [],
   "source": [
    "def load_data():\n",
    "    machine_df = pd.read_csv('Data/Data_Machine.txt', sep = '\\t')\n",
    "    return machine_df"
   ]
  },
  {
   "cell_type": "code",
   "execution_count": 5,
   "id": "15c9a0e7",
   "metadata": {},
   "outputs": [],
   "source": [
    "machine_df = load_data()"
   ]
  },
  {
   "cell_type": "code",
   "execution_count": 6,
   "id": "2fadfb21",
   "metadata": {},
   "outputs": [
    {
     "data": {
      "text/html": [
       "<div>\n",
       "<style scoped>\n",
       "    .dataframe tbody tr th:only-of-type {\n",
       "        vertical-align: middle;\n",
       "    }\n",
       "\n",
       "    .dataframe tbody tr th {\n",
       "        vertical-align: top;\n",
       "    }\n",
       "\n",
       "    .dataframe thead th {\n",
       "        text-align: right;\n",
       "    }\n",
       "</style>\n",
       "<table border=\"1\" class=\"dataframe\">\n",
       "  <thead>\n",
       "    <tr style=\"text-align: right;\">\n",
       "      <th></th>\n",
       "      <th>New Machine</th>\n",
       "      <th>Old Machine</th>\n",
       "    </tr>\n",
       "  </thead>\n",
       "  <tbody>\n",
       "    <tr>\n",
       "      <th>0</th>\n",
       "      <td>42.1</td>\n",
       "      <td>42.7</td>\n",
       "    </tr>\n",
       "    <tr>\n",
       "      <th>1</th>\n",
       "      <td>41.0</td>\n",
       "      <td>43.6</td>\n",
       "    </tr>\n",
       "    <tr>\n",
       "      <th>2</th>\n",
       "      <td>41.3</td>\n",
       "      <td>43.8</td>\n",
       "    </tr>\n",
       "    <tr>\n",
       "      <th>3</th>\n",
       "      <td>41.8</td>\n",
       "      <td>43.3</td>\n",
       "    </tr>\n",
       "    <tr>\n",
       "      <th>4</th>\n",
       "      <td>42.4</td>\n",
       "      <td>42.5</td>\n",
       "    </tr>\n",
       "    <tr>\n",
       "      <th>5</th>\n",
       "      <td>42.8</td>\n",
       "      <td>43.5</td>\n",
       "    </tr>\n",
       "    <tr>\n",
       "      <th>6</th>\n",
       "      <td>43.2</td>\n",
       "      <td>43.1</td>\n",
       "    </tr>\n",
       "    <tr>\n",
       "      <th>7</th>\n",
       "      <td>42.3</td>\n",
       "      <td>41.7</td>\n",
       "    </tr>\n",
       "    <tr>\n",
       "      <th>8</th>\n",
       "      <td>41.8</td>\n",
       "      <td>44.0</td>\n",
       "    </tr>\n",
       "    <tr>\n",
       "      <th>9</th>\n",
       "      <td>42.7</td>\n",
       "      <td>44.1</td>\n",
       "    </tr>\n",
       "  </tbody>\n",
       "</table>\n",
       "</div>"
      ],
      "text/plain": [
       "   New Machine    Old Machine\n",
       "0         42.1           42.7\n",
       "1         41.0           43.6\n",
       "2         41.3           43.8\n",
       "3         41.8           43.3\n",
       "4         42.4           42.5\n",
       "5         42.8           43.5\n",
       "6         43.2           43.1\n",
       "7         42.3           41.7\n",
       "8         41.8           44.0\n",
       "9         42.7           44.1"
      ]
     },
     "execution_count": 6,
     "metadata": {},
     "output_type": "execute_result"
    }
   ],
   "source": [
    "machine_df"
   ]
  },
  {
   "cell_type": "code",
   "execution_count": 336,
   "id": "090e2b78",
   "metadata": {},
   "outputs": [
    {
     "data": {
      "text/plain": [
       "Index(['New Machine', '  Old Machine'], dtype='object')"
      ]
     },
     "execution_count": 336,
     "metadata": {},
     "output_type": "execute_result"
    }
   ],
   "source": [
    "machine_df.columns"
   ]
  },
  {
   "cell_type": "code",
   "execution_count": null,
   "id": "ad637d17",
   "metadata": {},
   "outputs": [],
   "source": [
    "New Machine -> n (sample size)= 10 machines  \n",
    "\n",
    "Old Machine -> n (sample size)= 10 machines "
   ]
  },
  {
   "cell_type": "code",
   "execution_count": null,
   "id": "53e514bd",
   "metadata": {},
   "outputs": [],
   "source": [
    "One tailed test\n",
    "\n",
    "Null Hypothesis: Ho -> μ1 => μ2 \n",
    "Alternate Hypothesis: Ha -> μ1 < μ2 "
   ]
  },
  {
   "cell_type": "code",
   "execution_count": 7,
   "id": "cee0c759",
   "metadata": {},
   "outputs": [],
   "source": [
    "import matplotlib.pyplot as plt\n",
    "import numpy as np\n",
    "import scipy.stats as stats\n",
    "import math\n",
    "\n",
    "%matplotlib inline\n",
    "\n",
    "def visual_test(statistic, critical, dist = 'Norm', df = 0):\n",
    "\n",
    "    mu = 0\n",
    "    sigma = 1\n",
    "\n",
    "    x = np.linspace(mu - 4*sigma, mu + 4*sigma, 100)\n",
    "    x0 = np.linspace(mu - 4*sigma, mu + 4*sigma, 100)\n",
    "\n",
    "    if ( dist == 'Norm' ):\n",
    "        plt.plot(x, stats.norm.pdf(x, mu, sigma))\n",
    "        plt.fill_between(x0,stats.norm.pdf(x, mu, sigma),where = (x < -critical),facecolor='red')\n",
    "        plt.fill_between(x0,stats.norm.pdf(x, mu, sigma),where = (x > critical),facecolor='red')\n",
    "    else:\n",
    "        if ( df == 0 ):\n",
    "            while ( df == 0 or type(df) != int):\n",
    "                try:\n",
    "                    df = int(input(\"Set the correct value of degrees of freedom please: \" )) \n",
    "                except:\n",
    "                    df = 0       \n",
    "        plt.plot(x, stats.t.pdf(x,df))\n",
    "        plt.fill_between(x0,stats.t.pdf(x,df),where = (x < -critical),facecolor='red')\n",
    "\n",
    "    plt.axvline(-critical, c = 'r')\n",
    "    plt.axvline(statistic,c='b')\n",
    "\n",
    "    plt.show()"
   ]
  },
  {
   "cell_type": "markdown",
   "id": "15bf1160",
   "metadata": {},
   "source": [
    "#### x̄ (mean of the samples)"
   ]
  },
  {
   "cell_type": "code",
   "execution_count": 8,
   "id": "01012abe",
   "metadata": {},
   "outputs": [
    {
     "data": {
      "text/plain": [
       "42.14"
      ]
     },
     "execution_count": 8,
     "metadata": {},
     "output_type": "execute_result"
    }
   ],
   "source": [
    "mean_new_machine = np.mean(machine_df['New Machine'])\n",
    "mean_new_machine"
   ]
  },
  {
   "cell_type": "code",
   "execution_count": 9,
   "id": "72704a58",
   "metadata": {},
   "outputs": [
    {
     "data": {
      "text/plain": [
       "43.230000000000004"
      ]
     },
     "execution_count": 9,
     "metadata": {},
     "output_type": "execute_result"
    }
   ],
   "source": [
    "mean_old_machine = np.mean(machine_df['  Old Machine'])\n",
    "mean_old_machine"
   ]
  },
  {
   "cell_type": "markdown",
   "id": "74a255c6",
   "metadata": {},
   "source": [
    "#### s (standard deviation of the samples)"
   ]
  },
  {
   "cell_type": "code",
   "execution_count": 10,
   "id": "7892ace9",
   "metadata": {},
   "outputs": [
    {
     "data": {
      "text/plain": [
       "0.6483826030978941"
      ]
     },
     "execution_count": 10,
     "metadata": {},
     "output_type": "execute_result"
    }
   ],
   "source": [
    "std_new_machine = np.std(machine_df['New Machine'])\n",
    "std_new_machine"
   ]
  },
  {
   "cell_type": "code",
   "execution_count": 11,
   "id": "203f920d",
   "metadata": {},
   "outputs": [
    {
     "data": {
      "text/plain": [
       "0.7114070564732956"
      ]
     },
     "execution_count": 11,
     "metadata": {},
     "output_type": "execute_result"
    }
   ],
   "source": [
    "std_old_machine = np.std(machine_df['  Old Machine'])\n",
    "std_old_machine"
   ]
  },
  {
   "cell_type": "markdown",
   "id": "aeb5235c",
   "metadata": {},
   "source": [
    "#### t-student distribution"
   ]
  },
  {
   "cell_type": "code",
   "execution_count": 12,
   "id": "bc892b47",
   "metadata": {},
   "outputs": [
    {
     "data": {
      "text/plain": [
       "-3.5809955894645813"
      ]
     },
     "execution_count": 12,
     "metadata": {},
     "output_type": "execute_result"
    }
   ],
   "source": [
    "t = (mean_new_machine - mean_old_machine) / np.sqrt(((std_new_machine**2)/10) + ((std_old_machine**2)/10))\n",
    "t"
   ]
  },
  {
   "cell_type": "markdown",
   "id": "38f2ab6e",
   "metadata": {},
   "source": [
    "#### Critical value of the t-student distribution "
   ]
  },
  {
   "cell_type": "code",
   "execution_count": 13,
   "id": "9098b59f",
   "metadata": {},
   "outputs": [
    {
     "data": {
      "text/plain": [
       "1.8331129326536335"
      ]
     },
     "execution_count": 13,
     "metadata": {},
     "output_type": "execute_result"
    }
   ],
   "source": [
    "tc = stats.t.ppf(1-0.05, df=9) # n - 1 = 10-1=9 degrees of freedom and an area of 0.95\n",
    "tc"
   ]
  },
  {
   "cell_type": "code",
   "execution_count": null,
   "id": "c364c6ad",
   "metadata": {},
   "outputs": [],
   "source": [
    "t = -3.58 < -1.83 = tc -> reject null hypothesis\n",
    "\n",
    "The new machine won't pack faster on the average than the machine currently used. "
   ]
  },
  {
   "cell_type": "code",
   "execution_count": 14,
   "id": "1f3ca0f5",
   "metadata": {},
   "outputs": [
    {
     "data": {
      "image/png": "[encoded data removed]",
      "text/plain": [
       "<Figure size 432x288 with 1 Axes>"
      ]
     },
     "metadata": {
      "needs_background": "light"
     },
     "output_type": "display_data"
    }
   ],
   "source": [
    "visual_test(t,tc,dist = 't',df=9)"
   ]
  },
  {
   "cell_type": "code",
   "execution_count": null,
   "id": "daf167cb",
   "metadata": {},
   "outputs": [],
   "source": []
  }
 ],
 "metadata": {
  "kernelspec": {
   "display_name": "Python 3 (ipykernel)",
   "language": "python",
   "name": "python3"
  },
  "language_info": {
   "codemirror_mode": {
    "name": "ipython",
    "version": 3
   },
   "file_extension": ".py",
   "mimetype": "text/x-python",
   "name": "python",
   "nbconvert_exporter": "python",
   "pygments_lexer": "ipython3",
   "version": "3.9.7"
  }
 },
 "nbformat": 4,
 "nbformat_minor": 5
}
