{
 "cells": [
  {
   "cell_type": "code",
   "execution_count": 38,
   "id": "c172fc39",
   "metadata": {},
   "outputs": [],
   "source": [
    "import numpy as np\n",
    "import scipy.stats as stats"
   ]
  },
  {
   "cell_type": "markdown",
   "id": "fabafbe2",
   "metadata": {},
   "source": [
    "It is assumed that the mean systolic blood pressure is μ = 120 mm Hg. In the Honolulu Heart Study, a sample of n = 100 people had an average systolic blood pressure of 130.1 mm Hg with a standard deviation of 21.21 mm Hg. Is the group significantly different (with respect to systolic blood pressure!) from the regular population?"
   ]
  },
  {
   "cell_type": "raw",
   "id": "4ae16a6b",
   "metadata": {},
   "source": [
    "- μ = 120 mm Hg\n",
    "- σ = ?   # t-Student distribution\n",
    "- n = 100 people \n",
    "- x̄ = 130.1 mm Hg\n",
    "- s = 21.21 mm Hg"
   ]
  },
  {
   "cell_type": "markdown",
   "id": "29dabcbc",
   "metadata": {},
   "source": [
    "- Set up the hypothesis test."
   ]
  },
  {
   "cell_type": "raw",
   "id": "2dd851ad",
   "metadata": {},
   "source": [
    "Two tailed test\n",
    "\n",
    "Null Hypothesis: Ho -> μ = 120 mm Hg\n",
    "Alternate Hypothesis: Ha -> μ != 120 mm Hg"
   ]
  },
  {
   "cell_type": "markdown",
   "id": "9c3955c9",
   "metadata": {},
   "source": [
    "- Write down all the steps followed for setting up the test."
   ]
  },
  {
   "cell_type": "raw",
   "id": "77e1f041",
   "metadata": {},
   "source": [
    "Step 1: Define the null hypothesis \n",
    "This is our assumption about the population. It is defined by H0 and in this case H0: μ = 120\n",
    "\n",
    "Step 2: Define the alternative hypothesis \n",
    "This means, what if our assumption is not true, in fact the value is smaller. It is defined by Ha and in this case Ha: μ != 120\n",
    "\n",
    "Step 3: Decide a test statistic based on the information available. As the sample size is  big ( n > 30 ) but we are missing the population standard deviation we will use a statistic for a t-Student distribution. \n",
    "\n",
    "Step 4: Set the Confidence level / significance level: This defines the rejection region / critical region (How strong has to be the evidence against the null hypothesis). Significance level is defined by greek letter ‘α’. Usual values for confidence level are ( 90%, 95%, 99%) -> significance levels = (0.10, 0.05, 0.01). Let’s use a confidence level of 95% -> α = 0.05\n",
    "\n",
    "Step 5: Calculate the test statistic based on the given information: \n",
    "If you don’t have the population standard deviation, use the corrected sample standard deviation.\n",
    "Is the statistic within the acceptable region? No\n",
    "Reject Ho (null hypothesis)"
   ]
  },
  {
   "cell_type": "markdown",
   "id": "fe4db9cb",
   "metadata": {},
   "source": [
    "- Calculate the test statistic by hand and also code it in Python. It should be 4.76190. What decision can you make based on this calculated value?"
   ]
  },
  {
   "cell_type": "raw",
   "id": "bbf8b8fc",
   "metadata": {},
   "source": [
    "t = (130.1-120)/(21.21/√100)= 4.76190\n",
    "\n",
    "Where is located the critical value of the t-student distribution with n - 1 = 100-1=99 degrees of freedom and an area of 0.95? -> tc = 1.984\n",
    "\n",
    "tc = 1.98 > 4.76 = t -> reject null hypothesis\n",
    "\n",
    "The group is significantly different with respect to systolic blood pressure from the regular population."
   ]
  },
  {
   "cell_type": "code",
   "execution_count": 39,
   "id": "4999b441",
   "metadata": {},
   "outputs": [
    {
     "data": {
      "text/plain": [
       "4.761904761904759"
      ]
     },
     "execution_count": 39,
     "metadata": {},
     "output_type": "execute_result"
    }
   ],
   "source": [
    "t = (130.1-120)/(21.21/np.sqrt(100))\n",
    "t"
   ]
  },
  {
   "cell_type": "code",
   "execution_count": 41,
   "id": "6f1cd579",
   "metadata": {},
   "outputs": [
    {
     "data": {
      "text/plain": [
       "1.9842169515086827"
      ]
     },
     "execution_count": 41,
     "metadata": {},
     "output_type": "execute_result"
    }
   ],
   "source": [
    "tc = stats.t.ppf(1-(0.05/2),df=99)\n",
    "tc"
   ]
  },
  {
   "cell_type": "code",
   "execution_count": null,
   "id": "311fd16b",
   "metadata": {},
   "outputs": [],
   "source": []
  }
 ],
 "metadata": {
  "kernelspec": {
   "display_name": "Python 3 (ipykernel)",
   "language": "python",
   "name": "python3"
  },
  "language_info": {
   "codemirror_mode": {
    "name": "ipython",
    "version": 3
   },
   "file_extension": ".py",
   "mimetype": "text/x-python",
   "name": "python",
   "nbconvert_exporter": "python",
   "pygments_lexer": "ipython3",
   "version": "3.9.7"
  }
 },
 "nbformat": 4,
 "nbformat_minor": 5
}
