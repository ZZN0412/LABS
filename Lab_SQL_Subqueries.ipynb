{
 "cells": [
  {
   "cell_type": "code",
   "execution_count": 1,
   "id": "d774b070",
   "metadata": {},
   "outputs": [],
   "source": [
    "import pandas as pd\n",
    "import getpass\n",
    "import sqlalchemy as sa"
   ]
  },
  {
   "cell_type": "code",
   "execution_count": 2,
   "id": "22293bb7",
   "metadata": {},
   "outputs": [
    {
     "name": "stdout",
     "output_type": "stream",
     "text": [
      "Your password:········\n"
     ]
    }
   ],
   "source": [
    "driver = 'mysql+pymysql'\n",
    "user = 'root'\n",
    "password = getpass.getpass(prompt='Your password:'\"\")\n",
    "ip = '127.0.0.1'  "
   ]
  },
  {
   "cell_type": "code",
   "execution_count": 28,
   "id": "c138d0e3",
   "metadata": {},
   "outputs": [],
   "source": [
    "connection_string = f'{driver}://{user}:{password}@{ip}'"
   ]
  },
  {
   "cell_type": "code",
   "execution_count": 29,
   "id": "421111c7",
   "metadata": {},
   "outputs": [],
   "source": [
    "db_connection = sa.create_engine(connection_string)"
   ]
  },
  {
   "cell_type": "code",
   "execution_count": 42,
   "id": "557764b1",
   "metadata": {},
   "outputs": [
    {
     "name": "stdout",
     "output_type": "stream",
     "text": [
      "['bank', 'information_schema', 'lab_db_python_sql', 'mysql', 'performance_schema', 'sakila', 'sys']\n"
     ]
    }
   ],
   "source": [
    "insp = sa.inspect(db_connection)\n",
    "db_list = insp.get_schema_names()\n",
    "print(db_list)"
   ]
  },
  {
   "cell_type": "markdown",
   "id": "893c8c7e",
   "metadata": {},
   "source": [
    "1. How many copies of the film Hunchback Impossible exist in the inventory system"
   ]
  },
  {
   "cell_type": "code",
   "execution_count": 30,
   "id": "07ab5c8e",
   "metadata": {},
   "outputs": [],
   "source": [
    "query1= '''select film_id, count(inventory_id) as inventory_count from sakila.inventory \n",
    "where film_id = (select film_id from sakila.film \n",
    "where title = 'Hunchback Impossible') \n",
    "group by film_id'''"
   ]
  },
  {
   "cell_type": "code",
   "execution_count": 44,
   "id": "4efd3621",
   "metadata": {},
   "outputs": [
    {
     "data": {
      "text/html": [
       "<div>\n",
       "<style scoped>\n",
       "    .dataframe tbody tr th:only-of-type {\n",
       "        vertical-align: middle;\n",
       "    }\n",
       "\n",
       "    .dataframe tbody tr th {\n",
       "        vertical-align: top;\n",
       "    }\n",
       "\n",
       "    .dataframe thead th {\n",
       "        text-align: right;\n",
       "    }\n",
       "</style>\n",
       "<table border=\"1\" class=\"dataframe\">\n",
       "  <thead>\n",
       "    <tr style=\"text-align: right;\">\n",
       "      <th></th>\n",
       "      <th>film_id</th>\n",
       "      <th>inventory_count</th>\n",
       "    </tr>\n",
       "  </thead>\n",
       "  <tbody>\n",
       "    <tr>\n",
       "      <th>0</th>\n",
       "      <td>439</td>\n",
       "      <td>6</td>\n",
       "    </tr>\n",
       "  </tbody>\n",
       "</table>\n",
       "</div>"
      ],
      "text/plain": [
       "   film_id  inventory_count\n",
       "0      439                6"
      ]
     },
     "execution_count": 44,
     "metadata": {},
     "output_type": "execute_result"
    }
   ],
   "source": [
    "film_copies = pd.read_sql_query(query1, db_connection)\n",
    "film_copies.head()"
   ]
  },
  {
   "cell_type": "code",
   "execution_count": 45,
   "id": "0b1b8d57",
   "metadata": {},
   "outputs": [
    {
     "data": {
      "text/plain": [
       "'select title, count(inventory_id) as inventory_count from sakila.inventory\\ninner join sakila.film\\nusing(film_id) \\nwhere title = \"Hunchback Impossible\"'"
      ]
     },
     "execution_count": 45,
     "metadata": {},
     "output_type": "execute_result"
    }
   ],
   "source": [
    "'''select title, count(inventory_id) as inventory_count from sakila.inventory\n",
    "inner join sakila.film\n",
    "using(film_id) \n",
    "where title = \"Hunchback Impossible\"'''"
   ]
  },
  {
   "cell_type": "markdown",
   "id": "f1b8a88d",
   "metadata": {},
   "source": [
    "2. List all films whose length is longer than the average of all the films."
   ]
  },
  {
   "cell_type": "code",
   "execution_count": 32,
   "id": "7a1e4b41",
   "metadata": {},
   "outputs": [],
   "source": [
    "query2= '''select title from sakila.film where length > (select avg(length) from sakila.film)'''"
   ]
  },
  {
   "cell_type": "code",
   "execution_count": 33,
   "id": "b1bd804a",
   "metadata": {},
   "outputs": [
    {
     "data": {
      "text/html": [
       "<div>\n",
       "<style scoped>\n",
       "    .dataframe tbody tr th:only-of-type {\n",
       "        vertical-align: middle;\n",
       "    }\n",
       "\n",
       "    .dataframe tbody tr th {\n",
       "        vertical-align: top;\n",
       "    }\n",
       "\n",
       "    .dataframe thead th {\n",
       "        text-align: right;\n",
       "    }\n",
       "</style>\n",
       "<table border=\"1\" class=\"dataframe\">\n",
       "  <thead>\n",
       "    <tr style=\"text-align: right;\">\n",
       "      <th></th>\n",
       "      <th>title</th>\n",
       "    </tr>\n",
       "  </thead>\n",
       "  <tbody>\n",
       "    <tr>\n",
       "      <th>0</th>\n",
       "      <td>AFFAIR PREJUDICE</td>\n",
       "    </tr>\n",
       "    <tr>\n",
       "      <th>1</th>\n",
       "      <td>AFRICAN EGG</td>\n",
       "    </tr>\n",
       "    <tr>\n",
       "      <th>2</th>\n",
       "      <td>AGENT TRUMAN</td>\n",
       "    </tr>\n",
       "    <tr>\n",
       "      <th>3</th>\n",
       "      <td>ALAMO VIDEOTAPE</td>\n",
       "    </tr>\n",
       "    <tr>\n",
       "      <th>4</th>\n",
       "      <td>ALASKA PHANTOM</td>\n",
       "    </tr>\n",
       "  </tbody>\n",
       "</table>\n",
       "</div>"
      ],
      "text/plain": [
       "              title\n",
       "0  AFFAIR PREJUDICE\n",
       "1       AFRICAN EGG\n",
       "2      AGENT TRUMAN\n",
       "3   ALAMO VIDEOTAPE\n",
       "4    ALASKA PHANTOM"
      ]
     },
     "execution_count": 33,
     "metadata": {},
     "output_type": "execute_result"
    }
   ],
   "source": [
    "length_films = pd.read_sql_query(query2, db_connection)\n",
    "length_films.head()"
   ]
  },
  {
   "cell_type": "markdown",
   "id": "c1e1f891",
   "metadata": {},
   "source": [
    "3. Use subqueries to display all actors who appear in the film Alone Trip."
   ]
  },
  {
   "cell_type": "code",
   "execution_count": 34,
   "id": "439e1f40",
   "metadata": {},
   "outputs": [],
   "source": [
    "query3= '''select first_name, last_name from sakila.actor\n",
    "where actor_id in\n",
    "(select actor_id from sakila.film_actor\n",
    "where film_id in \n",
    "(select film_id from sakila.film\n",
    "where title = 'Alone Trip'))'''"
   ]
  },
  {
   "cell_type": "code",
   "execution_count": 35,
   "id": "93545275",
   "metadata": {},
   "outputs": [
    {
     "data": {
      "text/html": [
       "<div>\n",
       "<style scoped>\n",
       "    .dataframe tbody tr th:only-of-type {\n",
       "        vertical-align: middle;\n",
       "    }\n",
       "\n",
       "    .dataframe tbody tr th {\n",
       "        vertical-align: top;\n",
       "    }\n",
       "\n",
       "    .dataframe thead th {\n",
       "        text-align: right;\n",
       "    }\n",
       "</style>\n",
       "<table border=\"1\" class=\"dataframe\">\n",
       "  <thead>\n",
       "    <tr style=\"text-align: right;\">\n",
       "      <th></th>\n",
       "      <th>first_name</th>\n",
       "      <th>last_name</th>\n",
       "    </tr>\n",
       "  </thead>\n",
       "  <tbody>\n",
       "    <tr>\n",
       "      <th>0</th>\n",
       "      <td>ED</td>\n",
       "      <td>CHASE</td>\n",
       "    </tr>\n",
       "    <tr>\n",
       "      <th>1</th>\n",
       "      <td>KARL</td>\n",
       "      <td>BERRY</td>\n",
       "    </tr>\n",
       "    <tr>\n",
       "      <th>2</th>\n",
       "      <td>UMA</td>\n",
       "      <td>WOOD</td>\n",
       "    </tr>\n",
       "    <tr>\n",
       "      <th>3</th>\n",
       "      <td>WOODY</td>\n",
       "      <td>JOLIE</td>\n",
       "    </tr>\n",
       "    <tr>\n",
       "      <th>4</th>\n",
       "      <td>SPENCER</td>\n",
       "      <td>DEPP</td>\n",
       "    </tr>\n",
       "  </tbody>\n",
       "</table>\n",
       "</div>"
      ],
      "text/plain": [
       "  first_name last_name\n",
       "0         ED     CHASE\n",
       "1       KARL     BERRY\n",
       "2        UMA      WOOD\n",
       "3      WOODY     JOLIE\n",
       "4    SPENCER      DEPP"
      ]
     },
     "execution_count": 35,
     "metadata": {},
     "output_type": "execute_result"
    }
   ],
   "source": [
    "Alone_Trip_actors = pd.read_sql_query(query3, db_connection)\n",
    "Alone_Trip_actors.head()"
   ]
  },
  {
   "cell_type": "markdown",
   "id": "3b32bb54",
   "metadata": {},
   "source": [
    "4. Sales have been lagging among young families, and you wish to target all family movies for a promotion. \n",
    "Identify all movies categorized as family films."
   ]
  },
  {
   "cell_type": "code",
   "execution_count": 36,
   "id": "4f4f80c7",
   "metadata": {},
   "outputs": [],
   "source": [
    "query4= '''select title from sakila.film\n",
    "where film_id in\n",
    "(select film_id from sakila.film_category\n",
    "where category_id in \n",
    "(select category_id from sakila.category\n",
    "where `name` = 'Family'))'''"
   ]
  },
  {
   "cell_type": "code",
   "execution_count": 37,
   "id": "762c43b6",
   "metadata": {},
   "outputs": [
    {
     "data": {
      "text/html": [
       "<div>\n",
       "<style scoped>\n",
       "    .dataframe tbody tr th:only-of-type {\n",
       "        vertical-align: middle;\n",
       "    }\n",
       "\n",
       "    .dataframe tbody tr th {\n",
       "        vertical-align: top;\n",
       "    }\n",
       "\n",
       "    .dataframe thead th {\n",
       "        text-align: right;\n",
       "    }\n",
       "</style>\n",
       "<table border=\"1\" class=\"dataframe\">\n",
       "  <thead>\n",
       "    <tr style=\"text-align: right;\">\n",
       "      <th></th>\n",
       "      <th>title</th>\n",
       "    </tr>\n",
       "  </thead>\n",
       "  <tbody>\n",
       "    <tr>\n",
       "      <th>0</th>\n",
       "      <td>AFRICAN EGG</td>\n",
       "    </tr>\n",
       "    <tr>\n",
       "      <th>1</th>\n",
       "      <td>APACHE DIVINE</td>\n",
       "    </tr>\n",
       "    <tr>\n",
       "      <th>2</th>\n",
       "      <td>ATLANTIS CAUSE</td>\n",
       "    </tr>\n",
       "    <tr>\n",
       "      <th>3</th>\n",
       "      <td>BAKED CLEOPATRA</td>\n",
       "    </tr>\n",
       "    <tr>\n",
       "      <th>4</th>\n",
       "      <td>BANG KWAI</td>\n",
       "    </tr>\n",
       "  </tbody>\n",
       "</table>\n",
       "</div>"
      ],
      "text/plain": [
       "             title\n",
       "0      AFRICAN EGG\n",
       "1    APACHE DIVINE\n",
       "2   ATLANTIS CAUSE\n",
       "3  BAKED CLEOPATRA\n",
       "4        BANG KWAI"
      ]
     },
     "execution_count": 37,
     "metadata": {},
     "output_type": "execute_result"
    }
   ],
   "source": [
    "family_films = pd.read_sql_query(query4, db_connection)\n",
    "family_films.head()"
   ]
  },
  {
   "cell_type": "markdown",
   "id": "10e164c5",
   "metadata": {},
   "source": [
    "5. Get name and email from customers from Canada using subqueries. "
   ]
  },
  {
   "cell_type": "code",
   "execution_count": 38,
   "id": "c0fff651",
   "metadata": {},
   "outputs": [],
   "source": [
    "query5= '''select first_name, last_name, email from sakila.customer\n",
    "where address_id in\n",
    "(select address_id from sakila.address\n",
    "where city_id in\n",
    "(select city_id from sakila.city\n",
    "where country_id in\n",
    "(select country_id from sakila.country\n",
    "where country = \"Canada\")))'''"
   ]
  },
  {
   "cell_type": "code",
   "execution_count": 39,
   "id": "434b6fba",
   "metadata": {},
   "outputs": [
    {
     "data": {
      "text/html": [
       "<div>\n",
       "<style scoped>\n",
       "    .dataframe tbody tr th:only-of-type {\n",
       "        vertical-align: middle;\n",
       "    }\n",
       "\n",
       "    .dataframe tbody tr th {\n",
       "        vertical-align: top;\n",
       "    }\n",
       "\n",
       "    .dataframe thead th {\n",
       "        text-align: right;\n",
       "    }\n",
       "</style>\n",
       "<table border=\"1\" class=\"dataframe\">\n",
       "  <thead>\n",
       "    <tr style=\"text-align: right;\">\n",
       "      <th></th>\n",
       "      <th>first_name</th>\n",
       "      <th>last_name</th>\n",
       "      <th>email</th>\n",
       "    </tr>\n",
       "  </thead>\n",
       "  <tbody>\n",
       "    <tr>\n",
       "      <th>0</th>\n",
       "      <td>DERRICK</td>\n",
       "      <td>BOURQUE</td>\n",
       "      <td>DERRICK.BOURQUE@sakilacustomer.org</td>\n",
       "    </tr>\n",
       "    <tr>\n",
       "      <th>1</th>\n",
       "      <td>DARRELL</td>\n",
       "      <td>POWER</td>\n",
       "      <td>DARRELL.POWER@sakilacustomer.org</td>\n",
       "    </tr>\n",
       "    <tr>\n",
       "      <th>2</th>\n",
       "      <td>LORETTA</td>\n",
       "      <td>CARPENTER</td>\n",
       "      <td>LORETTA.CARPENTER@sakilacustomer.org</td>\n",
       "    </tr>\n",
       "    <tr>\n",
       "      <th>3</th>\n",
       "      <td>CURTIS</td>\n",
       "      <td>IRBY</td>\n",
       "      <td>CURTIS.IRBY@sakilacustomer.org</td>\n",
       "    </tr>\n",
       "    <tr>\n",
       "      <th>4</th>\n",
       "      <td>TROY</td>\n",
       "      <td>QUIGLEY</td>\n",
       "      <td>TROY.QUIGLEY@sakilacustomer.org</td>\n",
       "    </tr>\n",
       "  </tbody>\n",
       "</table>\n",
       "</div>"
      ],
      "text/plain": [
       "  first_name  last_name                                 email\n",
       "0    DERRICK    BOURQUE    DERRICK.BOURQUE@sakilacustomer.org\n",
       "1    DARRELL      POWER      DARRELL.POWER@sakilacustomer.org\n",
       "2    LORETTA  CARPENTER  LORETTA.CARPENTER@sakilacustomer.org\n",
       "3     CURTIS       IRBY        CURTIS.IRBY@sakilacustomer.org\n",
       "4       TROY    QUIGLEY       TROY.QUIGLEY@sakilacustomer.org"
      ]
     },
     "execution_count": 39,
     "metadata": {},
     "output_type": "execute_result"
    }
   ],
   "source": [
    "canada_customers = pd.read_sql_query(query5, db_connection)\n",
    "canada_customers.head()"
   ]
  },
  {
   "cell_type": "markdown",
   "id": "a9b45732",
   "metadata": {},
   "source": [
    "Do the same with joins. Note that to create a join, you will have to identify the correct tables with their primary keys and foreign keys, that will help you get the relevant information."
   ]
  },
  {
   "cell_type": "code",
   "execution_count": 40,
   "id": "39fd9ad3",
   "metadata": {},
   "outputs": [],
   "source": [
    "query6= '''select first_name, last_name, email from sakila.customer\n",
    "inner join sakila.address\n",
    "using(address_id)\n",
    "inner join sakila.city\n",
    "using(city_id)\n",
    "inner join sakila.country\n",
    "using(country_id)\n",
    "where country = \"Canada\"'''"
   ]
  },
  {
   "cell_type": "code",
   "execution_count": 41,
   "id": "8aff7a52",
   "metadata": {},
   "outputs": [
    {
     "data": {
      "text/html": [
       "<div>\n",
       "<style scoped>\n",
       "    .dataframe tbody tr th:only-of-type {\n",
       "        vertical-align: middle;\n",
       "    }\n",
       "\n",
       "    .dataframe tbody tr th {\n",
       "        vertical-align: top;\n",
       "    }\n",
       "\n",
       "    .dataframe thead th {\n",
       "        text-align: right;\n",
       "    }\n",
       "</style>\n",
       "<table border=\"1\" class=\"dataframe\">\n",
       "  <thead>\n",
       "    <tr style=\"text-align: right;\">\n",
       "      <th></th>\n",
       "      <th>first_name</th>\n",
       "      <th>last_name</th>\n",
       "      <th>email</th>\n",
       "    </tr>\n",
       "  </thead>\n",
       "  <tbody>\n",
       "    <tr>\n",
       "      <th>0</th>\n",
       "      <td>DERRICK</td>\n",
       "      <td>BOURQUE</td>\n",
       "      <td>DERRICK.BOURQUE@sakilacustomer.org</td>\n",
       "    </tr>\n",
       "    <tr>\n",
       "      <th>1</th>\n",
       "      <td>DARRELL</td>\n",
       "      <td>POWER</td>\n",
       "      <td>DARRELL.POWER@sakilacustomer.org</td>\n",
       "    </tr>\n",
       "    <tr>\n",
       "      <th>2</th>\n",
       "      <td>LORETTA</td>\n",
       "      <td>CARPENTER</td>\n",
       "      <td>LORETTA.CARPENTER@sakilacustomer.org</td>\n",
       "    </tr>\n",
       "    <tr>\n",
       "      <th>3</th>\n",
       "      <td>CURTIS</td>\n",
       "      <td>IRBY</td>\n",
       "      <td>CURTIS.IRBY@sakilacustomer.org</td>\n",
       "    </tr>\n",
       "    <tr>\n",
       "      <th>4</th>\n",
       "      <td>TROY</td>\n",
       "      <td>QUIGLEY</td>\n",
       "      <td>TROY.QUIGLEY@sakilacustomer.org</td>\n",
       "    </tr>\n",
       "  </tbody>\n",
       "</table>\n",
       "</div>"
      ],
      "text/plain": [
       "  first_name  last_name                                 email\n",
       "0    DERRICK    BOURQUE    DERRICK.BOURQUE@sakilacustomer.org\n",
       "1    DARRELL      POWER      DARRELL.POWER@sakilacustomer.org\n",
       "2    LORETTA  CARPENTER  LORETTA.CARPENTER@sakilacustomer.org\n",
       "3     CURTIS       IRBY        CURTIS.IRBY@sakilacustomer.org\n",
       "4       TROY    QUIGLEY       TROY.QUIGLEY@sakilacustomer.org"
      ]
     },
     "execution_count": 41,
     "metadata": {},
     "output_type": "execute_result"
    }
   ],
   "source": [
    "canada_customers_join = pd.read_sql_query(query6, db_connection)\n",
    "canada_customers_join.head()"
   ]
  }
 ],
 "metadata": {
  "kernelspec": {
   "display_name": "Python 3 (ipykernel)",
   "language": "python",
   "name": "python3"
  },
  "language_info": {
   "codemirror_mode": {
    "name": "ipython",
    "version": 3
   },
   "file_extension": ".py",
   "mimetype": "text/x-python",
   "name": "python",
   "nbconvert_exporter": "python",
   "pygments_lexer": "ipython3",
   "version": "3.9.7"
  }
 },
 "nbformat": 4,
 "nbformat_minor": 5
}
